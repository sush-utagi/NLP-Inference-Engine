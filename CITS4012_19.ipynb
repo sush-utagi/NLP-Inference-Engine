{
  "cells": [
    {
      "cell_type": "markdown",
      "metadata": {
        "id": "32yCsRUo8H33"
      },
      "source": [
        "# 2024 CITS4012 Project\n",
        "\n",
        "_Make sure you change the file name with your group id._\n"
      ]
    },
    {
      "cell_type": "markdown",
      "metadata": {
        "id": "XCybYoGz8YWQ"
      },
      "source": [
        "# Readme\n",
        "\n",
        "_If there is something to be noted for the marker, please mention here._\n",
        "\n",
        "_If you are planning to implement a program with Object Oriented Programming style, please put those the bottom of this ipynb file_\n"
      ]
    },
    {
      "cell_type": "markdown",
      "metadata": {
        "id": "6po98qVA8bJD"
      },
      "source": [
        "# 1.Dataset Processing\n",
        "\n",
        "(You can add as many code blocks and text blocks as you need. However, YOU SHOULD NOT MODIFY the section title)\n"
      ]
    },
    {
      "cell_type": "markdown",
      "metadata": {},
      "source": [
        "### 1.1 Import Dependencies\n"
      ]
    },
    {
      "cell_type": "code",
      "execution_count": 39,
      "metadata": {},
      "outputs": [],
      "source": [
        "import json, re, random, os\n",
        "import pandas as pd\n",
        "import numpy as np\n",
        "import matplotlib.pyplot as plt\n",
        "import seaborn as sns\n",
        "from collections import Counter\n",
        "# from typing import Dict, List, Tuple\n",
        "import torch\n",
        "import torch.nn as nn\n",
        "import torch.nn.functional as F\n",
        "from torch.utils.data import Dataset, DataLoader\n",
        "from torch.nn.utils.rnn import pad_sequence, pack_padded_sequence, pad_packed_sequence\n",
        "\n",
        "# from IPython.display import display, Javascript\n",
        "# run the last cell in the notebook\n",
        "# display(Javascript('Jupyter.notebook.execute_cells([-1])'))\n",
        "\n",
        "\n",
        "import warnings\n",
        "warnings.filterwarnings('ignore')"
      ]
    },
    {
      "cell_type": "markdown",
      "metadata": {},
      "source": [
        "### 1.2 Set Seed for Reproducibility\n"
      ]
    },
    {
      "cell_type": "code",
      "execution_count": 40,
      "metadata": {
        "id": "qvff21Hv8zjk"
      },
      "outputs": [],
      "source": [
        "CUDA = torch.cuda.is_available()\n",
        "\n",
        "SEED = 42 \n",
        "random.seed(SEED); np.random.seed(SEED)\n",
        "torch.manual_seed(SEED)\n",
        "if CUDA: torch.cuda.manual_seed_all(SEED)"
      ]
    },
    {
      "cell_type": "code",
      "execution_count": null,
      "metadata": {},
      "outputs": [],
      "source": [
        "TRAIN_PATH = 'data/train.json'\n",
        "VAL_PATH = 'data/validation.json'\n",
        "TEST_PATH = 'data/test.json'"
      ]
    },
    {
      "cell_type": "code",
      "execution_count": null,
      "metadata": {},
      "outputs": [
        {
          "name": "stdout",
          "output_type": "stream",
          "text": [
            ">>> 26518 examples loaded:\n",
            "    Training:   23,088 examples\n",
            "    Validation: 1,304 examples\n",
            "    Test:       2,126 examples\n",
            "\n",
            "Dataset Summary:\n",
            "Total examples: 26518\n",
            "Training: 23088 examples\n",
            "Validation: 1304 examples\n",
            "Test: 2126 examples\n"
          ]
        }
      ],
      "source": [
        "def load_nli_dataset(file_path):\n",
        "    \"\"\"\n",
        "    Load NLI dataset from JSON file\n",
        "    \"\"\"\n",
        "    with open(file_path, 'r', encoding='utf-8') as f:\n",
        "        data = json.load(f)\n",
        "    examples = []\n",
        "    for idx in range(len(data['premise'])):\n",
        "        example = {\n",
        "            'premise': data['premise'][str(idx)],\n",
        "            'hypothesis': data['hypothesis'][str(idx)],\n",
        "            'label': data['label'][str(idx)]\n",
        "        }\n",
        "        examples.append(example)\n",
        "    return examples\n",
        "\n",
        "def load_all_datasets():\n",
        "    \"\"\"Load all datasets (train, validation, test)\"\"\"\n",
        "    train_data = load_nli_dataset(TRAIN_PATH)\n",
        "    val_data = load_nli_dataset(VAL_PATH)\n",
        "    test_data = load_nli_dataset(TEST_PATH)\n",
        "    print(f\">>> {len(train_data) + len(val_data) + len(test_data)} examples loaded:\\n\"\n",
        "          f\"    Training:   {len(train_data):,} examples\\n\"\n",
        "          f\"    Validation: {len(val_data):,} examples\\n\"\n",
        "          f\"    Test:       {len(test_data):,} examples\")\n",
        "    return train_data, val_data, test_data\n",
        "\n",
        "train_data, val_data, test_data = load_all_datasets()\n",
        "\n",
        "print(f\"\\nDataset Summary:\")\n",
        "print(f\"Total examples: {len(train_data) + len(val_data) + len(test_data)}\")\n",
        "print(f\"Training: {len(train_data)} examples\")\n",
        "print(f\"Validation: {len(val_data)} examples\") \n",
        "print(f\"Test: {len(test_data)} examples\")"
      ]
    },
    {
      "cell_type": "markdown",
      "metadata": {},
      "source": [
        "### 1.3 Exploratory Data Analysis\n"
      ]
    },
    {
      "cell_type": "code",
      "execution_count": null,
      "metadata": {},
      "outputs": [
        {
          "name": "stdout",
          "output_type": "stream",
          "text": [
            "\n",
            "=== TRAINING DATASET ANALYSIS ===\n",
            "\n",
            "Label Distribution:\n",
            "  neutral: 14618 (63.31%)\n",
            "  entails: 8470 (36.69%)\n",
            "\n",
            "Text Length Statistics:\n",
            "  Premise length - Mean: 18.08, Median: 16.00, Max: 10587\n",
            "  Hypothesis length - Mean: 11.73, Median: 11.00, Max: 36\n",
            "\n",
            "Sample Examples:\n",
            "\n",
            "  Example 1:\n",
            "    Premise: Pluto rotates once on its axis every 6.39 Earth days;...\n",
            "    Hypothesis: Earth rotates on its axis once times in one day....\n",
            "    Label: neutral\n",
            "\n",
            "  Example 2:\n",
            "    Premise: ---Glenn ========================================================= Once per day, the earth rotates a...\n",
            "    Hypothesis: Earth rotates on its axis once times in one day....\n",
            "    Label: entails\n",
            "\n",
            "=== VALIDATION DATASET ANALYSIS ===\n",
            "\n",
            "Label Distribution:\n",
            "  neutral: 647 (49.62%)\n",
            "  entails: 657 (50.38%)\n",
            "\n",
            "Text Length Statistics:\n",
            "  Premise length - Mean: 17.31, Median: 15.50, Max: 52\n",
            "  Hypothesis length - Mean: 12.40, Median: 12.00, Max: 30\n",
            "\n",
            "Sample Examples:\n",
            "\n",
            "  Example 1:\n",
            "    Premise: An introduction to atoms and elements, compounds, atomic structure and bonding, the molecule and che...\n",
            "    Hypothesis: Replace another in a molecule happens to atoms during a substitution reaction....\n",
            "    Label: neutral\n",
            "\n",
            "  Example 2:\n",
            "    Premise: Wavelength The distance between two consecutive points on a sinusoidal wave that are in phase;...\n",
            "    Hypothesis: Wavelength is the distance between two corresponding points of adjacent waves called....\n",
            "    Label: entails\n",
            "\n",
            "=== TEST DATASET ANALYSIS ===\n",
            "\n",
            "Label Distribution:\n",
            "  neutral: 1284 (60.40%)\n",
            "  entails: 842 (39.60%)\n",
            "\n",
            "Text Length Statistics:\n",
            "  Premise length - Mean: 16.85, Median: 15.00, Max: 46\n",
            "  Hypothesis length - Mean: 12.47, Median: 11.00, Max: 28\n",
            "\n",
            "Sample Examples:\n",
            "\n",
            "  Example 1:\n",
            "    Premise: Based on the list provided of the uses of substances 1-7, estimate the pH of each unknown and record...\n",
            "    Hypothesis: If a substance has a ph value greater than 7,that indicates that it is base....\n",
            "    Label: neutral\n",
            "\n",
            "  Example 2:\n",
            "    Premise: If one or two            base pairs are changed (mutated), the embryo will fail to develop properly....\n",
            "    Hypothesis: Invertebrates (and higher animals) can also be placed in one of two groups based on how they develop...\n",
            "    Label: neutral\n"
          ]
        }
      ],
      "source": [
        "def analyze_dataset(data, dataset_name):\n",
        "    \"\"\"Analyze dataset characteristics\"\"\"\n",
        "    \n",
        "    print(f\"\\n=== {dataset_name.upper()} DATASET ANALYSIS ===\")\n",
        "    \n",
        "    # Label distribution\n",
        "    labels = [example['label'] for example in data]\n",
        "    label_counts = Counter(labels)\n",
        "    \n",
        "    print(f\"\\nLabel Distribution:\")\n",
        "    for label, count in label_counts.items():\n",
        "        percentage = (count / len(data)) * 100\n",
        "        print(f\"  {label}: {count} ({percentage:.2f}%)\")\n",
        "    \n",
        "    # Text length analysis\n",
        "    premise_lengths = [len(example['premise'].split()) for example in data]\n",
        "    hypothesis_lengths = [len(example['hypothesis'].split()) for example in data]\n",
        "    \n",
        "    print(f\"\\nText Length Statistics:\")\n",
        "    print(f\"  Premise length - Mean: {np.mean(premise_lengths):.2f}, \"\n",
        "          f\"Median: {np.median(premise_lengths):.2f}, \"\n",
        "          f\"Max: {max(premise_lengths)}\")\n",
        "    print(f\"  Hypothesis length - Mean: {np.mean(hypothesis_lengths):.2f}, \"\n",
        "          f\"Median: {np.median(hypothesis_lengths):.2f}, \"\n",
        "          f\"Max: {max(hypothesis_lengths)}\")\n",
        "    \n",
        "    print(f\"\\nSample Examples:\")\n",
        "    for i, example in enumerate(data[:2]):\n",
        "        print(f\"\\n  Example {i+1}:\")\n",
        "        print(f\"    Premise: {example['premise'][:100]}...\")\n",
        "        print(f\"    Hypothesis: {example['hypothesis'][:100]}...\")\n",
        "        print(f\"    Label: {example['label']}\")\n",
        "    \n",
        "    return {\n",
        "        'label_counts': label_counts,\n",
        "        'premise_lengths': premise_lengths,\n",
        "        'hypothesis_lengths': hypothesis_lengths\n",
        "    }\n",
        "\n",
        "# Analyze all datasets\n",
        "train_stats = analyze_dataset(train_data, \"Training\")\n",
        "val_stats = analyze_dataset(val_data, \"Validation\")\n",
        "test_stats = analyze_dataset(test_data, \"Test\")\n"
      ]
    },
    {
      "cell_type": "code",
      "execution_count": null,
      "metadata": {},
      "outputs": [
        {
          "data": {
            "image/png": "[encoded data removed]",
            "text/plain": [
              "<Figure size 1800x1200 with 6 Axes>"
            ]
          },
          "metadata": {},
          "output_type": "display_data"
        }
      ],
      "source": [
        "def create_visualizations(train_stats, val_stats, test_stats):\n",
        "    \"\"\"Create visualizations for dataset analysis\"\"\"\n",
        "    \n",
        "    fig, axes = plt.subplots(2, 3, figsize=(18, 12))\n",
        "    fig.suptitle('Dataset Analysis Visualizations', fontsize=16)\n",
        "    datasets = ['Train', 'Val', 'Test']\n",
        "    stats_list = [train_stats, val_stats, test_stats]\n",
        "    \n",
        "    for i, (dataset, stats) in enumerate(zip(datasets, stats_list)):\n",
        "        labels = list(stats['label_counts'].keys())\n",
        "        counts = list(stats['label_counts'].values())\n",
        "        axes[0, i].bar(labels, counts, color=['skyblue', 'lightcoral'])\n",
        "        axes[0, i].set_title(f'{dataset} Label Distribution')\n",
        "        axes[0, i].set_ylabel('Count')\n",
        "        total = sum(counts)\n",
        "        for j, count in enumerate(counts):\n",
        "            percentage = (count / total) * 100\n",
        "            axes[0, i].text(j, count + total*0.01, f'{percentage:.1f}%', \n",
        "                           ha='center', va='bottom')\n",
        "    \n",
        "    for i, (dataset, stats) in enumerate(zip(datasets, stats_list)):\n",
        "        axes[1, i].hist(stats['premise_lengths'], bins=50, alpha=0.7, \n",
        "                       label='Premise', color='skyblue', density=True)\n",
        "        axes[1, i].hist(stats['hypothesis_lengths'], bins=50, alpha=0.7, \n",
        "                       label='Hypothesis', color='lightcoral', density=True)\n",
        "        axes[1, i].set_title(f'{dataset} Text Length Distribution')\n",
        "        axes[1, i].set_xlabel('Number of Words')\n",
        "        axes[1, i].set_ylabel('Density')\n",
        "        axes[1, i].legend()\n",
        "        axes[1, i].set_xlim(0, min(100, max(stats['premise_lengths'] + stats['hypothesis_lengths'])))\n",
        "    \n",
        "    plt.tight_layout()\n",
        "    plt.show()\n",
        "\n",
        "# Create visualizations\n",
        "create_visualizations(train_stats, val_stats, test_stats)\n"
      ]
    },
    {
      "cell_type": "markdown",
      "metadata": {},
      "source": [
        "### 1.4 Preprocessing\n"
      ]
    },
    {
      "cell_type": "code",
      "execution_count": null,
      "metadata": {},
      "outputs": [
        {
          "name": "stdout",
          "output_type": "stream",
          "text": [
            ">>> Preprocessing complete\n",
            "Sample processed example:\n",
            "  Original premise: Pluto rotates once on its axis every 6.39 Earth days;...\n",
            "  Cleaned premise: pluto rotates once on its axis every 6.39 earth days;...\n",
            "  Tokens: ['pluto', 'rotates', 'once', 'on', 'its', 'axis', 'every', '6.39', 'earth', 'days;']...\n"
          ]
        }
      ],
      "source": [
        "def clean_text(text: str) -> str:\n",
        "    \"\"\"\n",
        "    Clean and preprocess text data\n",
        "    \"\"\"\n",
        "    text = text.lower()\n",
        "    text = re.sub(r'\\s+', ' ', text)\n",
        "    text = re.sub(r'[^\\w\\s.,!?;:\\'\"()-]', '', text)\n",
        "    text = text.strip()\n",
        "    return text\n",
        "\n",
        "def preprocess_dataset(data, clean=True):\n",
        "    \"\"\"\n",
        "    \"\"\"\n",
        "    processed_data = []\n",
        "    for example in data:\n",
        "        premise = example['premise']\n",
        "        hypothesis = example['hypothesis']\n",
        "        \n",
        "        if clean:\n",
        "            premise = clean_text(premise)\n",
        "            hypothesis = clean_text(hypothesis)\n",
        "        \n",
        "        processed_example = {\n",
        "            'premise': premise,\n",
        "            'hypothesis': hypothesis,\n",
        "            'label': example['label'],\n",
        "            'premise_tokens': premise.split(),\n",
        "            'hypothesis_tokens': hypothesis.split()\n",
        "        }\n",
        "        processed_data.append(processed_example)\n",
        "    return processed_data\n",
        "\n",
        "train_processed = preprocess_dataset(train_data)\n",
        "val_processed = preprocess_dataset(val_data)\n",
        "test_processed = preprocess_dataset(test_data)\n",
        "\n",
        "print(f\">>> Preprocessing complete\")\n",
        "print(f\"Sample processed example:\")\n",
        "print(f\"  Original premise: {train_data[0]['premise'][:100]}...\")\n",
        "print(f\"  Cleaned premise: {train_processed[0]['premise'][:100]}...\")\n",
        "print(f\"  Tokens: {train_processed[0]['premise_tokens'][:10]}...\")"
      ]
    },
    {
      "cell_type": "code",
      "execution_count": 7,
      "metadata": {},
      "outputs": [
        {
          "name": "stdout",
          "output_type": "stream",
          "text": [
            "Building vocabulary from training data...\n",
            "Vocabulary Analysis:\n",
            "  Total word occurrences: 688,073\n",
            "  Unique words: 35,863\n",
            "  Average frequency: 19.19\n",
            "\n",
            "Top 30 most frequent words:\n",
            "  'the': 51949 (7.55%)\n",
            "  'of': 29584 (4.30%)\n",
            "  'a': 18494 (2.69%)\n",
            "  'is': 18155 (2.64%)\n",
            "  'and': 18008 (2.62%)\n",
            "  'in': 14896 (2.16%)\n",
            "  'to': 13257 (1.93%)\n",
            "  'are': 8909 (1.29%)\n",
            "  'that': 7398 (1.08%)\n",
            "  'an': 4895 (0.71%)\n",
            "  'as': 4709 (0.68%)\n",
            "  'for': 4495 (0.65%)\n",
            "  'by': 4425 (0.64%)\n",
            "  'or': 4219 (0.61%)\n",
            "  'from': 3710 (0.54%)\n",
            "  'with': 3148 (0.46%)\n",
            "  'on': 3141 (0.46%)\n",
            "  'water': 2939 (0.43%)\n",
            "  'be': 2817 (0.41%)\n",
            "  'have': 2810 (0.41%)\n",
            "  'it': 2756 (0.40%)\n",
            "  'can': 2625 (0.38%)\n",
            "  'energy': 2504 (0.36%)\n",
            "  'most': 2267 (0.33%)\n",
            "  'called': 2263 (0.33%)\n",
            "  'which': 2176 (0.32%)\n",
            "  'when': 2150 (0.31%)\n",
            "  'one': 2137 (0.31%)\n",
            "  'two': 2034 (0.30%)\n",
            "  'at': 1835 (0.27%)\n",
            "\n",
            "Word length statistics:\n",
            "  Mean length: 8.25\n",
            "  Median length: 8.00\n",
            "  Max length: 82\n",
            "\n",
            "Vocabulary size: 35,863\n"
          ]
        }
      ],
      "source": [
        "def build_vocabulary(data):\n",
        "    \"\"\"\n",
        "    Build vocabulary from dataset\n",
        "    \n",
        "    Args:\n",
        "        data (List[Dict]): List of processed examples\n",
        "        \n",
        "    Returns:\n",
        "        Dict[str, int]: Vocabulary mapping word to frequency\n",
        "    \"\"\"\n",
        "    vocab = Counter()\n",
        "    for example in data:\n",
        "        vocab.update(example['premise_tokens'])\n",
        "        vocab.update(example['hypothesis_tokens'])\n",
        "    return dict(vocab)\n",
        "\n",
        "def analyze_vocabulary(vocab, top_k):\n",
        "    \"\"\"\n",
        "    Analyze vocabulary characteristics\n",
        "    \n",
        "    Args:\n",
        "        vocab (Dict[str, int]): Vocabulary dictionary\n",
        "        top_k (int): Number of top words to display\n",
        "    \"\"\"\n",
        "    total_words = sum(vocab.values())\n",
        "    unique_words = len(vocab)\n",
        "    \n",
        "    print(f\"Vocabulary Analysis:\")\n",
        "    print(f\"  Total word occurrences: {total_words:,}\")\n",
        "    print(f\"  Unique words: {unique_words:,}\")\n",
        "    print(f\"  Average frequency: {total_words/unique_words:.2f}\")\n",
        "    \n",
        "    # Most frequent words\n",
        "    most_frequent = Counter(vocab).most_common(top_k)\n",
        "    print(f\"\\nTop {top_k} most frequent words:\")\n",
        "    for word, freq in most_frequent:\n",
        "        percentage = (freq / total_words) * 100\n",
        "        print(f\"  '{word}': {freq} ({percentage:.2f}%)\")\n",
        "    \n",
        "    # Word length analysis\n",
        "    word_lengths = [len(word) for word in vocab.keys()]\n",
        "    print(f\"\\nWord length statistics:\")\n",
        "    print(f\"  Mean length: {np.mean(word_lengths):.2f}\")\n",
        "    print(f\"  Median length: {np.median(word_lengths):.2f}\")\n",
        "    print(f\"  Max length: {max(word_lengths)}\")\n",
        "\n",
        "print(\"Building vocabulary from training data...\")\n",
        "vocabulary = build_vocabulary(train_processed)\n",
        "analyze_vocabulary(vocabulary, top_k=30)\n",
        "vocab_size = len(vocabulary)\n",
        "print(f\"\\nVocabulary size: {vocab_size:,}\")\n"
      ]
    },
    {
      "cell_type": "code",
      "execution_count": null,
      "metadata": {},
      "outputs": [
        {
          "name": "stdout",
          "output_type": "stream",
          "text": [
            "Creating vocabulary...\n",
            "Vocabulary size: 35865\n",
            "Sample words: ['<PAD>', '<UNK>', 'pluto', 'rotates', 'once', 'on', 'its', 'axis', 'every', '6.39']\n"
          ]
        }
      ],
      "source": [
        "print(\"Creating vocabulary...\")\n",
        "vocab = Vocabulary(vocabulary, min_freq=1)  # Filter out words with frequency < 2\n",
        "print(f\"Vocabulary size: {vocab.get_vocab_size()}\")\n",
        "print(f\"Sample words: {list(vocab.word2idx.keys())[:10]}\")\n"
      ]
    },
    {
      "cell_type": "code",
      "execution_count": 8,
      "metadata": {},
      "outputs": [
        {
          "name": "stdout",
          "output_type": "stream",
          "text": [
            "============================================================\n",
            "DATASET LOADING COMPLETE\n",
            "============================================================\n",
            "\n",
            "Dataset Overview:\n",
            "  Training examples: 23,088\n",
            "  Validation examples: 1,304\n",
            "  Test examples: 2,126\n",
            "  Total examples: 26,518\n",
            "\n",
            "Data Characteristics:\n",
            "  Labels: {'entails', 'neutral'}\n",
            "  Vocabulary size: 35,863\n",
            "  Average premise length: 18.1 words\n",
            "  Average hypothesis length: 11.7 words\n"
          ]
        }
      ],
      "source": [
        "print(\"=\"*60)\n",
        "print(\"DATASET LOADING COMPLETE\")\n",
        "print(\"=\"*60)\n",
        "\n",
        "print(f\"\\nDataset Overview:\")\n",
        "print(f\"  Training examples: {len(train_processed):,}\")\n",
        "print(f\"  Validation examples: {len(val_processed):,}\")\n",
        "print(f\"  Test examples: {len(test_processed):,}\")\n",
        "print(f\"  Total examples: {len(train_processed) + len(val_processed) + len(test_processed):,}\")\n",
        "\n",
        "print(f\"\\nData Characteristics:\")\n",
        "print(f\"  Labels: {set([ex['label'] for ex in train_processed])}\")\n",
        "print(f\"  Vocabulary size: {vocab_size:,}\")\n",
        "print(f\"  Average premise length: {np.mean([len(ex['premise_tokens']) for ex in train_processed]):.1f} words\")\n",
        "print(f\"  Average hypothesis length: {np.mean([len(ex['hypothesis_tokens']) for ex in train_processed]):.1f} words\")"
      ]
    },
    {
      "cell_type": "markdown",
      "metadata": {
        "id": "1FA2ao2l8hOg"
      },
      "source": [
        "# 2. Model Implementation\n",
        "\n",
        "(You can add as many code blocks and text blocks as you need. However, YOU SHOULD NOT MODIFY the section title)\n"
      ]
    },
    {
      "cell_type": "markdown",
      "metadata": {},
      "source": [
        "### 2.1 Model Instantiation\n",
        "\n",
        "_For now we just make models with defualt hyperparameters_\n"
      ]
    },
    {
      "cell_type": "code",
      "execution_count": 36,
      "metadata": {},
      "outputs": [
        {
          "name": "stdout",
          "output_type": "stream",
          "text": [
            "BIRNN        -> params: 5,117,826 (trainable: 5,117,826)  | device: cpu\n",
            "ATTN         -> params: 7,536,778 (trainable: 7,536,778)  | device: cpu\n",
            "TRANSFORMER  -> params: 4,987,522 (trainable: 4,987,522)  | device: cpu\n"
          ]
        }
      ],
      "source": [
        "\n",
        "def default_model_configs(vocab_size: int):\n",
        "    \"\"\"Central place for default hyperparameters across models.\"\"\"\n",
        "    return {\n",
        "        \"birnn\": dict(\n",
        "            vocab_size=vocab_size,\n",
        "            embedding_dim=128,\n",
        "            hidden_dim=128,\n",
        "            num_layers=1,\n",
        "            dropout=0.2,\n",
        "            rnn_type='LSTM',\n",
        "            padding_idx=0,\n",
        "            num_classes=2,\n",
        "        ),\n",
        "        \"attn\": dict(  # NLIModelWithAttention\n",
        "            vocab_size=vocab_size,\n",
        "            embed_dim=100,\n",
        "            hidden_size=128,\n",
        "            embedding=None,\n",
        "            dropout=0.3,\n",
        "        ),\n",
        "        \"transformer\": dict(\n",
        "            vocab_size=vocab_size,\n",
        "            embed_dim=128,\n",
        "            nhead=4,\n",
        "            hidden_dim=256,\n",
        "            nlayers=2,\n",
        "            dropout=0.2,\n",
        "            num_classes=2,\n",
        "        ),\n",
        "    }\n",
        "\n",
        "def make_model(name: str, vocab_size: int, device=None):\n",
        "    \"\"\"\n",
        "    Build a model by name.\n",
        "      name ∈ {'birnn', 'attn', 'transformer'}\n",
        "    \"\"\"\n",
        "    device = device or (torch.device('cuda') if torch.cuda.is_available() else torch.device('cpu'))\n",
        "    cfgs = default_model_configs(vocab_size)\n",
        "\n",
        "    name = name.lower()\n",
        "    if name == \"birnn\":\n",
        "        model = BiRNNModel(**cfgs[\"birnn\"]).to(device)\n",
        "    elif name == \"attn\":\n",
        "        model = NLIModelWithAttention(**cfgs[\"attn\"]).to(device)\n",
        "    elif name == \"transformer\":\n",
        "        model = TransformerNLI(**cfgs[\"transformer\"]).to(device)\n",
        "    else:\n",
        "        raise ValueError(f\"Unknown model name '{name}'. Use one of: birnn, attn, transformer.\")\n",
        "    return model\n",
        "\n",
        "def count_params(model: nn.Module):\n",
        "    total = sum(p.numel() for p in model.parameters())\n",
        "    trainable = sum(p.numel() for p in model.parameters() if p.requires_grad)\n",
        "    return total, trainable\n",
        "\n",
        "device = torch.device('cuda' if torch.cuda.is_available() else 'cpu')\n",
        "vocab_size = vocab.get_vocab_size() if hasattr(vocab, \"get_vocab_size\") else len(vocab)\n",
        "models = {\n",
        "    \"birnn\": make_model(\"birnn\", vocab_size, device),\n",
        "    \"attn\": make_model(\"attn\", vocab_size, device),\n",
        "    \"transformer\": make_model(\"transformer\", vocab_size, device),\n",
        "}\n",
        "\n",
        "for name, m in models.items():\n",
        "    total, trainable = count_params(m)\n",
        "    print(f\"{name.upper():12s} -> params: {total:,} (trainable: {trainable:,})  | device: {next(m.parameters()).device}\")"
      ]
    },
    {
      "cell_type": "markdown",
      "metadata": {},
      "source": [
        "# Training Section"
      ]
    },
    {
      "cell_type": "markdown",
      "metadata": {},
      "source": [
        "## Dataset/ Loaders"
      ]
    },
    {
      "cell_type": "code",
      "execution_count": null,
      "metadata": {},
      "outputs": [
        {
          "name": "stdout",
          "output_type": "stream",
          "text": [
            "\n",
            "===== Training BIRNN =====\n"
          ]
        },
        {
          "name": "stderr",
          "output_type": "stream",
          "text": [
            "                                                           \r"
          ]
        },
        {
          "name": "stdout",
          "output_type": "stream",
          "text": [
            "Epoch 1/5 | Train Loss: 0.1035, Acc: 0.9596 | Val Loss: 1.0170, Acc: 0.7201\n"
          ]
        },
        {
          "name": "stderr",
          "output_type": "stream",
          "text": [
            "                                                           \r"
          ]
        },
        {
          "name": "stdout",
          "output_type": "stream",
          "text": [
            "Epoch 2/5 | Train Loss: 0.0600, Acc: 0.9773 | Val Loss: 1.0989, Acc: 0.7032\n"
          ]
        },
        {
          "name": "stderr",
          "output_type": "stream",
          "text": [
            "                                                           \r"
          ]
        },
        {
          "name": "stdout",
          "output_type": "stream",
          "text": [
            "Epoch 3/5 | Train Loss: 0.0408, Acc: 0.9853 | Val Loss: 1.2970, Acc: 0.7270\n"
          ]
        },
        {
          "name": "stderr",
          "output_type": "stream",
          "text": [
            "                                                           \r"
          ]
        },
        {
          "name": "stdout",
          "output_type": "stream",
          "text": [
            "Epoch 4/5 | Train Loss: 0.0344, Acc: 0.9876 | Val Loss: 1.4610, Acc: 0.7071\n"
          ]
        },
        {
          "name": "stderr",
          "output_type": "stream",
          "text": [
            "                                                           \r"
          ]
        },
        {
          "name": "stdout",
          "output_type": "stream",
          "text": [
            "Epoch 5/5 | Train Loss: 0.0258, Acc: 0.9899 | Val Loss: 1.7017, Acc: 0.7186\n",
            "BIRNN Test Loss: 1.2962, Test Acc: 0.7394\n",
            "\n",
            "===== Training ATTN =====\n"
          ]
        },
        {
          "name": "stderr",
          "output_type": "stream",
          "text": [
            "                                                           \r"
          ]
        },
        {
          "name": "stdout",
          "output_type": "stream",
          "text": [
            "Epoch 1/5 | Train Loss: 0.2395, Acc: 0.9012 | Val Loss: 0.6133, Acc: 0.7347\n"
          ]
        },
        {
          "name": "stderr",
          "output_type": "stream",
          "text": [
            "                                                           \r"
          ]
        },
        {
          "name": "stdout",
          "output_type": "stream",
          "text": [
            "Epoch 2/5 | Train Loss: 0.2131, Acc: 0.9126 | Val Loss: 0.6210, Acc: 0.7247\n"
          ]
        },
        {
          "name": "stderr",
          "output_type": "stream",
          "text": [
            "                                                           \r"
          ]
        },
        {
          "name": "stdout",
          "output_type": "stream",
          "text": [
            "Epoch 3/5 | Train Loss: 0.1872, Acc: 0.9244 | Val Loss: 0.7239, Acc: 0.7032\n"
          ]
        },
        {
          "name": "stderr",
          "output_type": "stream",
          "text": [
            "                                                           \r"
          ]
        },
        {
          "name": "stdout",
          "output_type": "stream",
          "text": [
            "Epoch 4/5 | Train Loss: 0.1672, Acc: 0.9340 | Val Loss: 0.7259, Acc: 0.7140\n"
          ]
        },
        {
          "name": "stderr",
          "output_type": "stream",
          "text": [
            "                                                           \r"
          ]
        },
        {
          "name": "stdout",
          "output_type": "stream",
          "text": [
            "Epoch 5/5 | Train Loss: 0.1485, Acc: 0.9397 | Val Loss: 0.7454, Acc: 0.7178\n",
            "ATTN Test Loss: 0.6675, Test Acc: 0.7192\n",
            "\n",
            "===== Training TRANSFORMER =====\n"
          ]
        },
        {
          "name": "stderr",
          "output_type": "stream",
          "text": [
            "                                                           \r"
          ]
        },
        {
          "name": "stdout",
          "output_type": "stream",
          "text": [
            "Epoch 1/5 | Train Loss: 0.5728, Acc: 0.6970 | Val Loss: 0.5705, Acc: 0.7055\n"
          ]
        },
        {
          "name": "stderr",
          "output_type": "stream",
          "text": [
            "                                                           \r"
          ]
        },
        {
          "name": "stdout",
          "output_type": "stream",
          "text": [
            "Epoch 2/5 | Train Loss: 0.5096, Acc: 0.7470 | Val Loss: 0.6164, Acc: 0.6725\n"
          ]
        },
        {
          "name": "stderr",
          "output_type": "stream",
          "text": [
            "                                                           \r"
          ]
        },
        {
          "name": "stdout",
          "output_type": "stream",
          "text": [
            "Epoch 3/5 | Train Loss: 0.4658, Acc: 0.7818 | Val Loss: 0.6206, Acc: 0.6794\n"
          ]
        },
        {
          "name": "stderr",
          "output_type": "stream",
          "text": [
            "                                                           \r"
          ]
        },
        {
          "name": "stdout",
          "output_type": "stream",
          "text": [
            "Epoch 4/5 | Train Loss: 0.4393, Acc: 0.7981 | Val Loss: 0.6030, Acc: 0.6940\n"
          ]
        },
        {
          "name": "stderr",
          "output_type": "stream",
          "text": [
            "                                                           \r"
          ]
        },
        {
          "name": "stdout",
          "output_type": "stream",
          "text": [
            "Epoch 5/5 | Train Loss: 0.4129, Acc: 0.8108 | Val Loss: 0.6274, Acc: 0.7032\n",
            "TRANSFORMER Test Loss: 0.6237, Test Acc: 0.6472\n"
          ]
        }
      ],
      "source": [
        "# training function"
      ]
    },
    {
      "cell_type": "code",
      "execution_count": null,
      "metadata": {
        "id": "QIEqDDT78q39"
      },
      "outputs": [],
      "source": [
        "# tuning section"
      ]
    },
    {
      "cell_type": "markdown",
      "metadata": {
        "id": "EzGuzHPE87Ya"
      },
      "source": [
        "# 3.Testing and Evaluation\n",
        "\n",
        "(You can add as many code blocks and text blocks as you need. However, YOU SHOULD NOT MODIFY the section title)\n"
      ]
    },
    {
      "cell_type": "code",
      "execution_count": null,
      "metadata": {
        "id": "6ZVeNYIH9IaL"
      },
      "outputs": [],
      "source": []
    },
    {
      "cell_type": "markdown",
      "metadata": {
        "id": "mefSOe8eTmGP"
      },
      "source": [
        "## Object Oriented Programming codes here\n",
        "\n",
        "_You can use multiple code snippets. Just add more if needed_\n"
      ]
    },
    {
      "cell_type": "code",
      "execution_count": null,
      "metadata": {},
      "outputs": [],
      "source": []
    },
    {
      "cell_type": "code",
      "execution_count": 10,
      "metadata": {},
      "outputs": [],
      "source": [
        "class BiRNNModel(nn.Module):\n",
        "    \"\"\"Bidirectional RNN model for Natural Language Inference (simple, solid baseline).\n",
        "       - Shared embedding + shared BiRNN encoder for premise/hypothesis\n",
        "       - Representation = concat of last forward/backward hidden states (top layer)\n",
        "       - Features = [p, h, |p-h|, p*h] -> small MLP -> logits\n",
        "    \"\"\"\n",
        "    def __init__(self, vocab_size, embedding_dim=128, hidden_dim=128,\n",
        "                 num_layers=1, dropout=0.2, rnn_type='LSTM', padding_idx=0, num_classes=2):\n",
        "        super().__init__()\n",
        "        self.hidden_dim = hidden_dim\n",
        "        self.num_layers = num_layers\n",
        "        self.rnn_type = rnn_type.upper()\n",
        "\n",
        "        # Embedding\n",
        "        self.embedding = nn.Embedding(vocab_size, embedding_dim, padding_idx=padding_idx)\n",
        "\n",
        "        # BiRNN (dropout only applies between stacked layers; set to 0 if single layer)\n",
        "        rnn_dropout = dropout if num_layers > 1 else 0.0\n",
        "        if self.rnn_type == 'LSTM':\n",
        "            self.rnn = nn.LSTM(embedding_dim, hidden_dim, num_layers,\n",
        "                               batch_first=True, bidirectional=True, dropout=rnn_dropout)\n",
        "        elif self.rnn_type == 'GRU':\n",
        "            self.rnn = nn.GRU(embedding_dim, hidden_dim, num_layers,\n",
        "                              batch_first=True, bidirectional=True, dropout=rnn_dropout)\n",
        "        else:  # vanilla RNN (tanh)\n",
        "            self.rnn = nn.RNN(embedding_dim, hidden_dim, num_layers,\n",
        "                              batch_first=True, bidirectional=True, nonlinearity='tanh', dropout=rnn_dropout)\n",
        "\n",
        "        self.dropout = nn.Dropout(dropout)\n",
        "\n",
        "        # Classifier on [p, h, |p-h|, p*h] (each p/h is 2*hidden_dim)\n",
        "        feat_dim = (hidden_dim * 2) * 4\n",
        "        self.classifier = nn.Sequential(\n",
        "            nn.Linear(feat_dim, hidden_dim * 2),\n",
        "            nn.ReLU(),\n",
        "            nn.Dropout(dropout),\n",
        "            nn.Linear(hidden_dim * 2, num_classes)  # 2 classes: entails / neutral\n",
        "        )\n",
        "\n",
        "    def _encode(self, x_ids, x_lengths):\n",
        "        \"\"\"\n",
        "        Encode a sequence with BiRNN and return the last hidden state concat (fwd||bwd) from top layer.\n",
        "        Args:\n",
        "            x_ids:      (B, T) long\n",
        "            x_lengths:  (B,)  long or int tensor with true lengths (>=1)\n",
        "        Returns:\n",
        "            rep: (B, 2H)\n",
        "        \"\"\"\n",
        "        emb = self.embedding(x_ids)  # (B, T, E)\n",
        "        # pack for efficient/padded-safe RNN\n",
        "        x_lengths = torch.clamp(x_lengths, min=1).to(x_ids.device)\n",
        "        packed = nn.utils.rnn.pack_padded_sequence(emb, x_lengths.cpu(), batch_first=True, enforce_sorted=False)\n",
        "        if self.rnn_type == 'LSTM':\n",
        "            _, (h_n, _) = self.rnn(packed)  # h_n: (num_layers*2, B, H)\n",
        "        else:\n",
        "            _, h_n = self.rnn(packed)       # h_n: (num_layers*2, B, H)\n",
        "\n",
        "        # take top layer forward and backward states\n",
        "        # layout in bidirectional: [layer0_fwd, layer0_bwd, ..., layerL-1_fwd, layerL-1_bwd]\n",
        "        fwd_top = h_n[-2, :, :]  # (B, H)\n",
        "        bwd_top = h_n[-1, :, :]  # (B, H)\n",
        "        rep = torch.cat([fwd_top, bwd_top], dim=-1)  # (B, 2H)\n",
        "        rep = self.dropout(rep)\n",
        "        return rep\n",
        "\n",
        "    def forward(self, premise, hypothesis, premise_lengths, hypothesis_lengths):\n",
        "        \"\"\"\n",
        "        Args:\n",
        "            premise:            (B, T) long\n",
        "            hypothesis:         (B, T) long\n",
        "            premise_lengths:    (B,)  long\n",
        "            hypothesis_lengths: (B,)  long\n",
        "        Returns:\n",
        "            logits: (B, num_classes)\n",
        "        \"\"\"\n",
        "        p = self._encode(premise, premise_lengths)      # (B, 2H)\n",
        "        h = self._encode(hypothesis, hypothesis_lengths)# (B, 2H)\n",
        "\n",
        "        feats = torch.cat([p, h, torch.abs(p - h), p * h], dim=-1)  # (B, 8H)\n",
        "        logits = self.classifier(feats)  # (B, C)\n",
        "        return logits\n",
        "    \n"
      ]
    },
    {
      "cell_type": "code",
      "execution_count": 11,
      "metadata": {},
      "outputs": [],
      "source": [
        "\n",
        "# ---------------------------\n",
        "# Encoder\n",
        "# ---------------------------\n",
        "class EncoderRNN(nn.Module):\n",
        "    def __init__(self, vocab_size, embed_dim, hidden_size, embedding=None, dropout=0.3):\n",
        "        super().__init__()\n",
        "        self.hidden_size = hidden_size\n",
        "        if embedding is not None:\n",
        "            self.embedding = embedding\n",
        "        else:\n",
        "            self.embedding = nn.Embedding(vocab_size, embed_dim, padding_idx=0)\n",
        "        self.gru = nn.GRU(embed_dim, hidden_size, batch_first=True, bidirectional=True)\n",
        "        self.dropout = nn.Dropout(dropout)\n",
        "\n",
        "    def forward(self, src, src_len):\n",
        "        # src: [batch, seq_len]\n",
        "        embedded = self.dropout(self.embedding(src))  # [B, L, D]\n",
        "        packed = nn.utils.rnn.pack_padded_sequence(embedded, src_len.cpu(), batch_first=True, enforce_sorted=False)\n",
        "        outputs, hidden = self.gru(packed)  # hidden: [2, B, H]\n",
        "        outputs, _ = nn.utils.rnn.pad_packed_sequence(outputs, batch_first=True)  # [B, L, 2H]\n",
        "        return outputs, hidden  # outputs = encoder states\n",
        "\n",
        "\n",
        "# ---------------------------\n",
        "# Attention (Luong)\n",
        "# ---------------------------\n",
        "class LuongAttention(nn.Module):\n",
        "    def __init__(self, hidden_size):\n",
        "        super().__init__()\n",
        "        self.attn = nn.Linear(hidden_size, hidden_size)\n",
        "\n",
        "    def forward(self, decoder_hidden, encoder_outputs, mask=None):\n",
        "        # decoder_hidden: [B, H]\n",
        "        # encoder_outputs: [B, L, H]\n",
        "        # Compute attention scores\n",
        "        attn_scores = torch.bmm(encoder_outputs, decoder_hidden.unsqueeze(2)).squeeze(2)  # [B, L]\n",
        "        if mask is not None:\n",
        "            attn_scores.masked_fill_(~mask, -1e9)\n",
        "        attn_weights = F.softmax(attn_scores, dim=1)  # [B, L]\n",
        "        context = torch.bmm(attn_weights.unsqueeze(1), encoder_outputs).squeeze(1)  # [B, H]\n",
        "        return context, attn_weights\n",
        "\n",
        "\n",
        "# ---------------------------\n",
        "# Decoder\n",
        "# ---------------------------\n",
        "class DecoderRNN(nn.Module):\n",
        "    def __init__(self, vocab_size, embed_dim, hidden_size, embedding=None, dropout=0.3):\n",
        "        super().__init__()\n",
        "        self.hidden_size = hidden_size\n",
        "        if embedding is not None:\n",
        "            self.embedding = embedding\n",
        "        else:\n",
        "            self.embedding = nn.Embedding(vocab_size, embed_dim, padding_idx=0)\n",
        "\n",
        "        self.gru = nn.GRU(embed_dim + hidden_size, hidden_size, batch_first=True)\n",
        "        self.attention = LuongAttention(hidden_size)\n",
        "        self.dropout = nn.Dropout(dropout)\n",
        "\n",
        "    def forward(self, tgt, tgt_len, encoder_outputs, encoder_mask):\n",
        "        # tgt: [B, L_t]\n",
        "        embedded = self.dropout(self.embedding(tgt))  # [B, L_t, D]\n",
        "        batch_size, L_t, _ = embedded.size()\n",
        "\n",
        "        hidden = torch.zeros(1, batch_size, self.hidden_size, device=tgt.device)\n",
        "        outputs = []\n",
        "\n",
        "        for t in range(L_t):\n",
        "            input_step = embedded[:, t, :]  # [B, D]\n",
        "            context, attn_weights = self.attention(hidden.squeeze(0), encoder_outputs, encoder_mask)  # [B, H]\n",
        "            rnn_input = torch.cat([input_step, context], dim=1).unsqueeze(1)  # [B, 1, D+H]\n",
        "            output, hidden = self.gru(rnn_input, hidden)  # output: [B,1,H]\n",
        "            outputs.append(output)\n",
        "\n",
        "        outputs = torch.cat(outputs, dim=1)  # [B, L_t, H]\n",
        "        return outputs  # decoder outputs\n",
        "\n",
        "\n",
        "# ---------------------------\n",
        "# Combined Model\n",
        "# ---------------------------\n",
        "class NLIModelWithAttention(nn.Module):\n",
        "    def __init__(self, vocab_size, embed_dim=100, hidden_size=128, embedding=None, dropout=0.3):\n",
        "        super().__init__()\n",
        "        self.encoder = EncoderRNN(vocab_size, embed_dim, hidden_size, embedding, dropout)\n",
        "        self.decoder = DecoderRNN(vocab_size, embed_dim, hidden_size, embedding, dropout)\n",
        "        self.classifier = nn.Sequential(\n",
        "            nn.Linear(hidden_size * 2, hidden_size),\n",
        "            nn.ReLU(),\n",
        "            nn.Dropout(dropout),\n",
        "            nn.Linear(hidden_size, 2)  # 2 classes: entailment, neutral\n",
        "        )\n",
        "\n",
        "    def make_mask(self, seq, seq_len):\n",
        "        mask = torch.arange(seq.size(1), device=seq.device).unsqueeze(0) < seq_len.unsqueeze(1)\n",
        "        return mask  # [B, L]\n",
        "\n",
        "    def forward(self, premise, hypothesis, premise_len, hypothesis_len):\n",
        "        # Encode premise\n",
        "        encoder_outputs, _ = self.encoder(premise, premise_len)  # [B, Lp, 2H]\n",
        "        # Project to single direction size\n",
        "        encoder_outputs = encoder_outputs[:, :, :self.encoder.hidden_size] + encoder_outputs[:, :, self.encoder.hidden_size:]\n",
        "        encoder_mask = self.make_mask(premise, premise_len)\n",
        "\n",
        "        # Decode hypothesis\n",
        "        decoder_outputs = self.decoder(hypothesis, hypothesis_len, encoder_outputs, encoder_mask)  # [B, Lh, H]\n",
        "        # Pooling\n",
        "        premise_repr = torch.mean(encoder_outputs, dim=1)  # [B, H]\n",
        "        hypothesis_repr = torch.mean(decoder_outputs, dim=1)  # [B, H]\n",
        "\n",
        "        # Combine and classify\n",
        "        combined = torch.cat([premise_repr, hypothesis_repr], dim=1)\n",
        "        logits = self.classifier(combined)\n",
        "        return logits\n",
        "    \n",
        "\n"
      ]
    },
    {
      "cell_type": "code",
      "execution_count": 12,
      "metadata": {},
      "outputs": [],
      "source": [
        "# ------------------------------\n",
        "# Model 3: Transformer-based NLI\n",
        "# ------------------------------\n",
        "\n",
        "import math\n",
        "import torch\n",
        "import torch.nn as nn\n",
        "import torch.nn.functional as F\n",
        "\n",
        "# Positional Encoding (reuse your previous code)\n",
        "class PositionalEncoding(nn.Module):\n",
        "    def __init__(self, d_model, dropout=0.1, max_len=5000):\n",
        "        super().__init__()\n",
        "        self.dropout = nn.Dropout(p=dropout)\n",
        "\n",
        "        pe = torch.zeros(max_len, d_model)\n",
        "        position = torch.arange(0, max_len, dtype=torch.float).unsqueeze(1)\n",
        "        div_term = torch.exp(torch.arange(0, d_model, 2).float() * (-math.log(10000.0) / d_model))\n",
        "        pe[:, 0::2] = torch.sin(position * div_term)\n",
        "        pe[:, 1::2] = torch.cos(position * div_term)\n",
        "        pe = pe.unsqueeze(0)\n",
        "        self.register_buffer('pe', pe)\n",
        "\n",
        "    def forward(self, x):\n",
        "        # x: (B, T, E)\n",
        "        x = x + self.pe[:, :x.size(1), :]\n",
        "        return self.dropout(x)\n",
        "\n",
        "# Transformer NLI Model\n",
        "class TransformerNLI(nn.Module):\n",
        "    def __init__(self, vocab_size, embed_dim=128, nhead=4, hidden_dim=256, nlayers=2, dropout=0.2, num_classes=2):\n",
        "        super().__init__()\n",
        "        from torch.nn import TransformerEncoder, TransformerEncoderLayer\n",
        "\n",
        "        self.embedding = nn.Embedding(vocab_size, embed_dim, padding_idx=0)\n",
        "        self.pos_encoder = PositionalEncoding(embed_dim, dropout)\n",
        "\n",
        "        encoder_layer = TransformerEncoderLayer(d_model=embed_dim, nhead=nhead,\n",
        "                                                dim_feedforward=hidden_dim, dropout=dropout)\n",
        "        self.transformer_encoder = TransformerEncoder(encoder_layer, num_layers=nlayers)\n",
        "        self.dropout = nn.Dropout(dropout)\n",
        "\n",
        "        # Classifier: [p, h, |p-h|, p*h]\n",
        "        feat_dim = embed_dim * 4\n",
        "        self.classifier = nn.Sequential(\n",
        "            nn.Linear(feat_dim, hidden_dim),\n",
        "            nn.ReLU(),\n",
        "            nn.Dropout(dropout),\n",
        "            nn.Linear(hidden_dim, num_classes)\n",
        "        )\n",
        "\n",
        "    def _encode(self, x, lengths):\n",
        "        # x: (B, T)\n",
        "        emb = self.embedding(x) * math.sqrt(self.embedding.embedding_dim)\n",
        "        emb = self.pos_encoder(emb)  # (B, T, E)\n",
        "        emb = emb.transpose(0, 1)  # (T, B, E)\n",
        "        mask = self._generate_pad_mask(x, lengths)  # (B, T)\n",
        "        out = self.transformer_encoder(emb, src_key_padding_mask=mask)  # (T, B, E)\n",
        "        out = out.transpose(0, 1)  # (B, T, E)\n",
        "        # Mean pooling (ignore padded tokens)\n",
        "        lengths = lengths.unsqueeze(1).to(out.device)\n",
        "        pooled = torch.sum(out * (~mask.unsqueeze(-1)), dim=1) / lengths\n",
        "        return self.dropout(pooled)\n",
        "\n",
        "    def _generate_pad_mask(self, x, lengths):\n",
        "        # True where padding, shape (B, T)\n",
        "        B, T = x.size()\n",
        "        mask = torch.arange(T, device=x.device).unsqueeze(0) >= lengths.unsqueeze(1)\n",
        "        return mask\n",
        "\n",
        "    def forward(self, premise, hypothesis, premise_lengths, hypothesis_lengths):\n",
        "        p = self._encode(premise, premise_lengths)\n",
        "        h = self._encode(hypothesis, hypothesis_lengths)\n",
        "        feats = torch.cat([p, h, torch.abs(p - h), p * h], dim=-1)\n",
        "        logits = self.classifier(feats)\n",
        "        return logits\n",
        "\n"
      ]
    },
    {
      "cell_type": "code",
      "execution_count": 14,
      "metadata": {},
      "outputs": [],
      "source": [
        "# Word-to-Index Mappings and Vocabulary Utilities\n",
        "\n",
        "class Vocabulary:\n",
        "    \"\"\"Vocabulary class for word-to-index mappings\"\"\"\n",
        "    \n",
        "    def __init__(self, vocab_dict=None, min_freq=1):\n",
        "        self.word2idx = {}\n",
        "        self.idx2word = {}\n",
        "        self.word_freq = {}\n",
        "        \n",
        "        # Special tokens\n",
        "        self.PAD_TOKEN = '<PAD>'\n",
        "        self.UNK_TOKEN = '<UNK>'\n",
        "        \n",
        "        # Add special tokens\n",
        "        self.word2idx[self.PAD_TOKEN] = 0\n",
        "        self.word2idx[self.UNK_TOKEN] = 1\n",
        "        self.idx2word[0] = self.PAD_TOKEN\n",
        "        self.idx2word[1] = self.UNK_TOKEN\n",
        "        \n",
        "        if vocab_dict is not None:\n",
        "            self.build_vocab(vocab_dict, min_freq)\n",
        "    \n",
        "    def build_vocab(self, vocab_dict, min_freq=1):\n",
        "        \"\"\"Build vocabulary from word frequency dictionary\"\"\"\n",
        "        idx = 2  # Start from 2 (0 and 1 are reserved for PAD and UNK)\n",
        "        \n",
        "        for word, freq in vocab_dict.items():\n",
        "            if freq >= min_freq:\n",
        "                self.word2idx[word] = idx\n",
        "                self.idx2word[idx] = word\n",
        "                self.word_freq[word] = freq\n",
        "                idx += 1\n",
        "    \n",
        "    def encode(self, tokens):\n",
        "        \"\"\"Convert tokens to indices\"\"\"\n",
        "        return [self.word2idx.get(token, self.word2idx[self.UNK_TOKEN]) for token in tokens]\n",
        "    \n",
        "    def decode(self, indices):\n",
        "        \"\"\"Convert indices to tokens\"\"\"\n",
        "        return [self.idx2word.get(idx, self.UNK_TOKEN) for idx in indices]\n",
        "    \n",
        "    def __len__(self):\n",
        "        return len(self.word2idx)\n",
        "    \n",
        "    def get_vocab_size(self):\n",
        "        return len(self.word2idx)\n"
      ]
    },
    {
      "cell_type": "code",
      "execution_count": null,
      "metadata": {},
      "outputs": [],
      "source": [
        "\n",
        "class NLIDataset(Dataset):\n",
        "    \"\"\"PyTorch Dataset for NLI data\"\"\"\n",
        "    \n",
        "    def __init__(self, data, vocab, max_length=128):\n",
        "        self.data = data\n",
        "        self.vocab = vocab\n",
        "        self.max_length = max_length\n",
        "        \n",
        "        # Create label mapping\n",
        "        self.label2idx = {'neutral': 0, 'entails': 1}\n",
        "        self.idx2label = {0: 'neutral', 1: 'entails'}\n",
        "    \n",
        "    def __len__(self):\n",
        "        return len(self.data)\n",
        "    \n",
        "    def __getitem__(self, idx):\n",
        "        example = self.data[idx]\n",
        "        \n",
        "        # Encode tokens\n",
        "        premise_indices = self.vocab.encode(example['premise_tokens'])\n",
        "        hypothesis_indices = self.vocab.encode(example['hypothesis_tokens'])\n",
        "        \n",
        "        # Truncate if too long\n",
        "        premise_indices = premise_indices[:self.max_length]\n",
        "        hypothesis_indices = hypothesis_indices[:self.max_length]\n",
        "        \n",
        "        # Ensure minimum length of 1 (add padding token if empty)\n",
        "        if len(premise_indices) == 0:\n",
        "            premise_indices = [0]  # PAD token\n",
        "        if len(hypothesis_indices) == 0:\n",
        "            hypothesis_indices = [0]  # PAD token\n",
        "        \n",
        "        # Get label\n",
        "        label = self.label2idx[example['label']]\n",
        "        \n",
        "        return {\n",
        "            'premise': torch.tensor(premise_indices, dtype=torch.long),\n",
        "            'hypothesis': torch.tensor(hypothesis_indices, dtype=torch.long),\n",
        "            'label': torch.tensor(label, dtype=torch.long),\n",
        "            'premise_length': len(premise_indices),\n",
        "            'hypothesis_length': len(hypothesis_indices)\n",
        "        }\n",
        "\n"
      ]
    },
    {
      "cell_type": "code",
      "execution_count": 46,
      "metadata": {},
      "outputs": [],
      "source": [
        "from torch.utils.data import Dataset, DataLoader\n",
        "\n",
        "label2idx = {\"entails\": 0, \"neutral\": 1}\n",
        "\n",
        "# -----------------------------\n",
        "# Dataset & Collate\n",
        "# -----------------------------\n",
        "class NLIDataset(torch.utils.data.Dataset):\n",
        "    def __init__(self, data, vocab):\n",
        "        self.data = data\n",
        "        self.vocab = vocab\n",
        "\n",
        "    def __len__(self):\n",
        "        return len(self.data)\n",
        "\n",
        "    def __getitem__(self, idx):\n",
        "        item = self.data[idx]\n",
        "        premise_ids = torch.tensor(self.vocab.encode(item[\"premise_tokens\"]), dtype=torch.long)\n",
        "        hypothesis_ids = torch.tensor(self.vocab.encode(item[\"hypothesis_tokens\"]), dtype=torch.long)\n",
        "        label = torch.tensor(label2idx[item[\"label\"]], dtype=torch.long)\n",
        "        return premise_ids, hypothesis_ids, label\n",
        "\n",
        "def collate_fn(batch):\n",
        "    premises, hypotheses, labels = zip(*batch)\n",
        "    premise_lengths = torch.tensor([len(p) for p in premises])\n",
        "    hypothesis_lengths = torch.tensor([len(h) for h in hypotheses])\n",
        "    \n",
        "    padded_premise = nn.utils.rnn.pad_sequence(premises, batch_first=True, padding_value=0)\n",
        "    padded_hypothesis = nn.utils.rnn.pad_sequence(hypotheses, batch_first=True, padding_value=0)\n",
        "    labels = torch.stack(labels)\n",
        "    return padded_premise, premise_lengths, padded_hypothesis, hypothesis_lengths, labels"
      ]
    },
    {
      "cell_type": "markdown",
      "metadata": {},
      "source": []
    },
    {
      "cell_type": "markdown",
      "metadata": {},
      "source": []
    },
    {
      "cell_type": "markdown",
      "metadata": {},
      "source": []
    },
    {
      "cell_type": "markdown",
      "metadata": {},
      "source": []
    }
  ],
  "metadata": {
    "colab": {
      "provenance": [],
      "toc_visible": true
    },
    "kernelspec": {
      "display_name": "cits4012-2025",
      "language": "python",
      "name": "python3"
    },
    "language_info": {
      "codemirror_mode": {
        "name": "ipython",
        "version": 3
      },
      "file_extension": ".py",
      "mimetype": "text/x-python",
      "name": "python",
      "nbconvert_exporter": "python",
      "pygments_lexer": "ipython3",
      "version": "3.8.20"
    }
  },
  "nbformat": 4,
  "nbformat_minor": 0
}
